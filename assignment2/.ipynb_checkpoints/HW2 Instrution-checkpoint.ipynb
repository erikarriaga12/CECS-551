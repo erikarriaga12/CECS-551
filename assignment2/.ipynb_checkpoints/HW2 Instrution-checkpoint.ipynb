{
 "cells": [
  {
   "cell_type": "markdown",
   "metadata": {},
   "source": [
    "# CECS 551 HW 2\n",
    "\n",
    "In this assignment you will practice putting together a simple image classification pipeline, based on the **k-Nearest Neighbor** or the **SVM/Softmax classifier**. The goals of this assignment are as follows:\n",
    "\n",
    "- understand the basic **Image Classification pipeline** and the data-driven approach (train/predict stages)\n",
    "- understand the train/val/test **splits** and the use of validation data for **hyperparameter tuning**.\n",
    "- develop proficiency in writing **efficient vectorized** code with numpy\n",
    "- implement and apply a k-Nearest Neighbor (**kNN**) classifier\n",
    "- implement and apply a Multiclass Support Vector Machine (**SVM**) classifier\n",
    "- implement and apply a **Softmax** classifier\n",
    "- implement and apply a **Two layer neural network** classifier\n",
    "- understand the differences and tradeoffs between these classifiers\n",
    "- get a basic understanding of performance improvements from using higher-level representations than raw pixels (e.g. color histograms, Histogram of Gradient (HOG) features)\n"
   ]
  },
  {
   "cell_type": "markdown",
   "metadata": {},
   "source": [
    "## Setup\n",
    "Get the code as a zip file [here](https://google.com).\n",
    "\n",
    "### Working locally\n",
    "**Installing Anaconda**: We recommend using the free Anaconda Python distribution, which provides an easy way for you to handle package dependencies. Please be sure to download the Python 3 version, which currently installs Python 3.6.\n",
    "\n",
    "**Anaconda Virtual environment**: Once you have Anaconda installed, it makes sense to create a virtual environment for the course. If you choose not to use a virtual environment, it is up to you to make sure that all dependencies for the code are installed globally on your machine. To set up a virtual environment, run (in a terminal)\n",
    "\n",
    "`conda create -n cecs551 python=3.6 anaconda`\n",
    "\n",
    "to create an environment called cs551.\n",
    "\n",
    "Then, to activate and enter the environment, run\n",
    "\n",
    "`source activate cecs551`\n",
    "\n",
    "To exit, you can simply close the window, or run\n",
    "\n",
    "`source deactivate cecs551`\n",
    "\n",
    "Note that every time you want to work on the assignment, you should run `source activate cecs551` (change to the name of your virtual env).\n",
    "\n",
    "You may refer to [this page](https://conda.io/projects/conda/en/latest/user-guide/tasks/manage-environments.html) for more detailed instructions on managing virtual environments with Anaconda.\n",
    "\n",
    "**Python virtualenv**: Alternatively, you may use python virtualenv for the project. To set up a virtual environment, run the following:\n",
    "\n",
    "```bash\n",
    "sudo pip install virtualenv      # This may already be installed\n",
    "virtualenv -p python3 .env       # Create a virtual environment (python3)\n",
    "# Note: you can also use \"virtualenv .env\" to use your default python (please note we support 3.6)\n",
    "source .env/bin/activate         # Activate the virtual environment\n",
    "pip install -r requirements.txt  # Install dependencies\n",
    "# Work on the assignment for a while ...\n",
    "deactivate                       # Exit the virtual environment\n",
    "```"
   ]
  },
  {
   "cell_type": "markdown",
   "metadata": {},
   "source": [
    "## Download data:\n",
    "\n",
    "Once you have the starter code (regardless of which method you choose above), you will need to download the CIFAR-10 dataset. Run the following from the assignment2 directory:\n",
    "```bash\n",
    "cd cs231n/datasets\n",
    "./get_datasets.sh\n",
    "```"
   ]
  },
  {
   "cell_type": "markdown",
   "metadata": {},
   "source": [
    "## Start IPython\n",
    "After you have the CIFAR-10 data, you should start the IPython notebook server from the assignment1 directory, with the jupyter notebook command.\n",
    "\n",
    "If you are unfamiliar with IPython, you can also refer to our [IPython tutorial](http://cs231n.github.io/ipython-tutorial/).\n",
    "\n",
    "\n",
    "## Q1: k-Nearest Neighbor classifier (20 points)\n",
    "The IPython Notebook **knn.ipynb** will walk you through implementing the kNN classifier.\n",
    "\n",
    "## Q2: Training a Support Vector Machine (25 points)\n",
    "The IPython Notebook **svm.ipynb** will walk you through implementing the SVM classifier.\n",
    "\n",
    "## Q3: Implement a Softmax classifier (20 points)\n",
    "The IPython Notebook **softmax.ipynb** will walk you through implementing the Softmax classifier.\n",
    "\n",
    "## Q4: Two-Layer Neural Network (25 points)\n",
    "The IPython Notebook **two_layer_net.ipynb** will walk you through the implementation of a two-layer neural network classifier.\n",
    "\n",
    "## Q5: Higher Level Representations: Image Features (10 points)\n",
    "The IPython Notebook **features.ipynb** will walk you through this exercise, in which you will examine the improvements gained by using higher-level representations as opposed to using raw pixel values."
   ]
  },
  {
   "cell_type": "markdown",
   "metadata": {},
   "source": [
    "## Some Notes\n",
    "\n",
    "**NOTE 1:** This year, the `assignmentw` code has been tested to be compatible with python version 3.6 (it may work with other versions of 3.x, but we won’t be officially supporting them). You will need to make sure that during your virtual environment setup that the correct version of python is used. You can confirm your `python` version by (1) activating your virtualenv and (2) running which python.\n",
    "\n",
    "NOTE 2: If you are working in a virtual environment on OSX, you may potentially encounter errors with matplotlib due to the issues described here. In our testing, it seems that this issue is no longer present with the most recent version of matplotlib, but if you do end up running into this issue you may have to use the `start_ipython_osx.sh` script from the `assignment2` directory (instead of `jupyter notebook` above) to launch your IPython notebook server. Note that you may have to modify some variables within the script to match your version of python/installation directory. The script assumes that your virtual environment is named `.env`."
   ]
  },
  {
   "cell_type": "code",
   "execution_count": null,
   "metadata": {},
   "outputs": [],
   "source": []
  }
 ],
 "metadata": {
  "kernelspec": {
   "display_name": "Python 3",
   "language": "python",
   "name": "python3"
  },
  "language_info": {
   "codemirror_mode": {
    "name": "ipython",
    "version": 3
   },
   "file_extension": ".py",
   "mimetype": "text/x-python",
   "name": "python",
   "nbconvert_exporter": "python",
   "pygments_lexer": "ipython3",
   "version": "3.6.8"
  }
 },
 "nbformat": 4,
 "nbformat_minor": 2
}
